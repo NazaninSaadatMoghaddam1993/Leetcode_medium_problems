{
  "nbformat": 4,
  "nbformat_minor": 0,
  "metadata": {
    "colab": {
      "provenance": []
    },
    "kernelspec": {
      "name": "python3",
      "display_name": "Python 3"
    },
    "language_info": {
      "name": "python"
    }
  },
  "cells": [
    {
      "cell_type": "markdown",
      "source": [
        "# Code to rearrange the string into a zigzage order with given number of rows"
      ],
      "metadata": {
        "id": "nkBJmjBkyPzS"
      }
    },
    {
      "cell_type": "code",
      "execution_count": null,
      "metadata": {
        "id": "Lcf9EnbPyGip"
      },
      "outputs": [],
      "source": [
        "class Solution:\n",
        "    def convert(self, s: str, numRows: int) -> str:\n",
        "        arr = []\n",
        "        if len(s)<=numRows or len(s)<=2 or numRows==1:\n",
        "            return s\n",
        "\n",
        "        top = [0,numRows-1]\n",
        "        mid = list(range(1,numRows-1))\n",
        "        for i in range(numRows):\n",
        "            if i in top:\n",
        "                j = i\n",
        "                d = 2*(numRows-1)\n",
        "                while j<len(s):\n",
        "                    arr.append(s[j])\n",
        "                    j = j+d\n",
        "            if i in mid:\n",
        "                j = i\n",
        "                d_to_top = i\n",
        "                d_to_flr = numRows-i-1\n",
        "                d_mid = numRows-1-i\n",
        "                swch=0\n",
        "                while j<len(s):\n",
        "                    if swch==0:\n",
        "                        arr.append(s[j])\n",
        "                        j = j+d_to_flr+d_mid\n",
        "                        swch = 1\n",
        "                    if swch==1 and j<len(s):\n",
        "                        arr.append(s[j])\n",
        "                        j = j+(2*d_to_top)\n",
        "                        swch = 0\n",
        "        return \"\".join(arr)\n"
      ]
    },
    {
      "cell_type": "markdown",
      "source": [
        "# Given a signed 32-bit integer x, return x with its digits reversed. If reversing x causes the value to go outside the signed 32-bit integer range(which means  [-2147483648 to 2147483647])"
      ],
      "metadata": {
        "id": "efy3jQ0kD3mX"
      }
    },
    {
      "cell_type": "code",
      "source": [
        "class Solution:\n",
        "    def reverse(self, x: int) -> int:\n",
        "        maxim = 2147483647\n",
        "        minim = -2147483647\n",
        "        if x<0:\n",
        "            a = abs(x)\n",
        "            a=str(a)[::-1]\n",
        "            a = (-1)*int(a)\n",
        "        else:\n",
        "            a=str(x)[::-1]\n",
        "            a = int(a)\n",
        "        if a<maxim and a>minim:\n",
        "            return a\n",
        "        else:\n",
        "            return 0\n"
      ],
      "metadata": {
        "id": "mwTbiL-aD2vA"
      },
      "execution_count": null,
      "outputs": []
    },
    {
      "cell_type": "markdown",
      "source": [
        "# You are given an integer array height of length n. There are n vertical lines drawn such that the two endpoints of the ith line are (i, 0) and (i, height[i]). Find two lines that together with the x-axis form a container, such that the container contains the most water. Return the maximum amount of water a container can store."
      ],
      "metadata": {
        "id": "XLWPbhR3ybcG"
      }
    },
    {
      "cell_type": "code",
      "source": [
        "class Solution:\n",
        "    def maxArea(self, height: List[int]) -> int:\n",
        "        left = 0\n",
        "        right = len(height) - 1\n",
        "        max_area = 0\n",
        "\n",
        "        while left < right:\n",
        "            current_area = min(height[left], height[right]) * (right - left)\n",
        "            max_area = max(max_area, current_area)\n",
        "            if height[left] < height[right]:\n",
        "                left += 1\n",
        "            else:\n",
        "                right -= 1\n",
        "\n",
        "        return max_area"
      ],
      "metadata": {
        "id": "MumotdQiycA-"
      },
      "execution_count": null,
      "outputs": []
    },
    {
      "cell_type": "markdown",
      "source": [
        "# Roman numerals are represented by seven different symbols"
      ],
      "metadata": {
        "id": "hROmIcYByqei"
      }
    },
    {
      "cell_type": "code",
      "source": [
        "class Solution:\n",
        "    def intToRoman(self, num: int) -> str:\n",
        "        symbol_to_val = {\n",
        "            1:'I',\n",
        "            5:'V',\n",
        "            10:'X',\n",
        "            50:'L',\n",
        "            100:'C',\n",
        "            500:'D',\n",
        "            1000:'M'\n",
        "        }\n",
        "        k = len(str(num))-1\n",
        "        i = 0\n",
        "        final = []\n",
        "        if num in symbol_to_val:\n",
        "            return symbol_to_val[num]\n",
        "        while k>=0:\n",
        "            prefix = (10**k)*int(str(num)[i])\n",
        "            if prefix in symbol_to_val:\n",
        "                final.append(symbol_to_val[prefix])\n",
        "            else:\n",
        "                s = int(str(num)[i])\n",
        "                if s ==9 or s ==4:\n",
        "                    final.append(symbol_to_val[10**k])\n",
        "                    final.append(symbol_to_val[prefix+(10**k)])\n",
        "                elif s == 2 or s ==3:\n",
        "                    final.append(symbol_to_val[(10**k)]*s)\n",
        "                elif s == 0:\n",
        "                    pass\n",
        "                else:\n",
        "                    d = s-5\n",
        "                    final.append(symbol_to_val[5*(10**k)])\n",
        "                    final.append(symbol_to_val[10**k]*d)\n",
        "            i+=1\n",
        "            k-=1\n",
        "        return \"\".join(final)\n",
        ""
      ],
      "metadata": {
        "id": "tiT9V3IkH2tm"
      },
      "execution_count": null,
      "outputs": []
    },
    {
      "cell_type": "markdown",
      "source": [],
      "metadata": {
        "id": "ChMnYtJWH_Wj"
      }
    },
    {
      "cell_type": "code",
      "source": [],
      "metadata": {
        "id": "YAB7jIsuH_oE"
      },
      "execution_count": null,
      "outputs": []
    }
  ]
}