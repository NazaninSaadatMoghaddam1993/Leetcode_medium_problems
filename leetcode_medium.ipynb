{
  "nbformat": 4,
  "nbformat_minor": 0,
  "metadata": {
    "colab": {
      "provenance": [],
      "authorship_tag": "ABX9TyPNHvfz82+NQmnKw3CZWQGl",
      "include_colab_link": true
    },
    "kernelspec": {
      "name": "python3",
      "display_name": "Python 3"
    },
    "language_info": {
      "name": "python"
    }
  },
  "cells": [
    {
      "cell_type": "markdown",
      "metadata": {
        "id": "view-in-github",
        "colab_type": "text"
      },
      "source": [
        "<a href=\"https://colab.research.google.com/github/NazaninSaadatMoghaddam1993/Leetcode_medium_problems/blob/main/leetcode_medium.ipynb\" target=\"_parent\"><img src=\"https://colab.research.google.com/assets/colab-badge.svg\" alt=\"Open In Colab\"/></a>"
      ]
    },
    {
      "cell_type": "markdown",
      "source": [
        "# Code to rearrange the string into a zigzage order with given number of rows"
      ],
      "metadata": {
        "id": "nkBJmjBkyPzS"
      }
    },
    {
      "cell_type": "code",
      "execution_count": null,
      "metadata": {
        "id": "Lcf9EnbPyGip"
      },
      "outputs": [],
      "source": [
        "class Solution:\n",
        "    def convert(self, s: str, numRows: int) -> str:\n",
        "        arr = []\n",
        "        if len(s)<=numRows or len(s)<=2 or numRows==1:\n",
        "            return s\n",
        "\n",
        "        top = [0,numRows-1]\n",
        "        mid = list(range(1,numRows-1))\n",
        "        for i in range(numRows):\n",
        "            if i in top:\n",
        "                j = i\n",
        "                d = 2*(numRows-1)\n",
        "                while j<len(s):\n",
        "                    arr.append(s[j])\n",
        "                    j = j+d\n",
        "            if i in mid:\n",
        "                j = i\n",
        "                d_to_top = i\n",
        "                d_to_flr = numRows-i-1\n",
        "                d_mid = numRows-1-i\n",
        "                swch=0\n",
        "                while j<len(s):\n",
        "                    if swch==0:\n",
        "                        arr.append(s[j])\n",
        "                        j = j+d_to_flr+d_mid\n",
        "                        swch = 1\n",
        "                    if swch==1 and j<len(s):\n",
        "                        arr.append(s[j])\n",
        "                        j = j+(2*d_to_top)\n",
        "                        swch = 0\n",
        "        return \"\".join(arr)\n"
      ]
    },
    {
      "cell_type": "markdown",
      "source": [
        "## Given a signed 32-bit integer x, return x with its digits reversed. If reversing x causes the value to go outside the signed 32-bit integer range(which means  [-2147483648 to 2147483647])"
      ],
      "metadata": {
        "id": "efy3jQ0kD3mX"
      }
    },
    {
      "cell_type": "code",
      "source": [
        "class Solution:\n",
        "    def reverse(self, x: int) -> int:\n",
        "        maxim = (2**31)-1\n",
        "        minim = -(2**31)\n",
        "        if x<0:\n",
        "            a = abs(x)\n",
        "            a=str(a)[::-1]\n",
        "            a = (-1)*int(a)\n",
        "        else:\n",
        "            a=str(x)[::-1]\n",
        "            a = int(a)\n",
        "        if a<maxim and a>minim:\n",
        "            return a\n",
        "        else:\n",
        "            return 0\n"
      ],
      "metadata": {
        "id": "mwTbiL-aD2vA"
      },
      "execution_count": null,
      "outputs": []
    },
    {
      "cell_type": "markdown",
      "source": [
        "# Container With Most Water\n",
        "\n",
        "### You are given an integer array height of length n. There are n vertical lines drawn such that the two endpoints of the ith line are (i, 0) and (i, height[i]). Find two lines that together with the x-axis form a container, such that the container contains the most water. Return the maximum amount of water a container can store."
      ],
      "metadata": {
        "id": "XLWPbhR3ybcG"
      }
    },
    {
      "cell_type": "code",
      "source": [
        "class Solution:\n",
        "    def maxArea(self, height: List[int]) -> int:\n",
        "        left = 0\n",
        "        right = len(height) - 1\n",
        "        max_area = 0\n",
        "\n",
        "        while left < right:\n",
        "            current_area = min(height[left], height[right]) * (right - left)\n",
        "            max_area = max(max_area, current_area)\n",
        "            if height[left] < height[right]:\n",
        "                left += 1\n",
        "            else:\n",
        "                right -= 1\n",
        "\n",
        "        return max_area"
      ],
      "metadata": {
        "id": "MumotdQiycA-"
      },
      "execution_count": null,
      "outputs": []
    },
    {
      "cell_type": "markdown",
      "source": [
        "# Roman numerals are represented by seven different symbols"
      ],
      "metadata": {
        "id": "hROmIcYByqei"
      }
    },
    {
      "cell_type": "code",
      "source": [
        "class Solution:\n",
        "    def intToRoman(self, num: int) -> str:\n",
        "        symbol_to_val = {\n",
        "            1:'I',\n",
        "            5:'V',\n",
        "            10:'X',\n",
        "            50:'L',\n",
        "            100:'C',\n",
        "            500:'D',\n",
        "            1000:'M'\n",
        "        }\n",
        "        k = len(str(num))-1\n",
        "        i = 0\n",
        "        final = []\n",
        "        if num in symbol_to_val:\n",
        "            return symbol_to_val[num]\n",
        "        while k>=0:\n",
        "            prefix = (10**k)*int(str(num)[i])\n",
        "            if prefix in symbol_to_val:\n",
        "                final.append(symbol_to_val[prefix])\n",
        "            else:\n",
        "                s = int(str(num)[i])\n",
        "                if s ==9 or s ==4:\n",
        "                    final.append(symbol_to_val[10**k])\n",
        "                    final.append(symbol_to_val[prefix+(10**k)])\n",
        "                elif s == 2 or s ==3:\n",
        "                    final.append(symbol_to_val[(10**k)]*s)\n",
        "                elif s == 0:\n",
        "                    pass\n",
        "                else:\n",
        "                    d = s-5\n",
        "                    final.append(symbol_to_val[5*(10**k)])\n",
        "                    final.append(symbol_to_val[10**k]*d)\n",
        "            i+=1\n",
        "            k-=1\n",
        "        return \"\".join(final)\n"
      ],
      "metadata": {
        "id": "tiT9V3IkH2tm"
      },
      "execution_count": null,
      "outputs": []
    },
    {
      "cell_type": "markdown",
      "source": [
        "## You are given two non-empty linked lists representing two non-negative integers. The digits are stored in reverse order, and each of their nodes contains a single digit. Add the two numbers and return the sum as a linked list.You may assume the two numbers do not contain any leading zero, except the number 0 itself."
      ],
      "metadata": {
        "id": "ChMnYtJWH_Wj"
      }
    },
    {
      "cell_type": "code",
      "source": [
        "# Definition for singly-linked list.\n",
        "# class ListNode:\n",
        "#     def __init__(self, val=0, next=None):\n",
        "#         self.val = val\n",
        "#         self.next = next\n",
        "\n",
        "class Solution:\n",
        "    def addTwoNumbers(self, l1: Optional[ListNode], l2: Optional[ListNode]) -> Optional[ListNode]:\n",
        "        def getCount(node):\n",
        "            num = 0\n",
        "            count = 0  # Initialise count\n",
        "            while (node):\n",
        "\n",
        "                num += (node.val)*(10**count)\n",
        "                node = node.next\n",
        "                count += 1\n",
        "            return num\n",
        "        numb_1 = getCount(l1)\n",
        "        numb_2 = getCount(l2)\n",
        "        sum_res = reversed(str(numb_1+numb_2))\n",
        "        final_list = []\n",
        "        for i in sum_res:\n",
        "            n = ListNode(int(i))\n",
        "            final_list.append(n)\n",
        "\n",
        "        head = final_list[0]\n",
        "        # print(head)\n",
        "        for j in range(len(final_list)-1):\n",
        "            final_list[j].next =final_list[j+1]\n",
        "        return head\n",
        "\n"
      ],
      "metadata": {
        "id": "YAB7jIsuH_oE"
      },
      "execution_count": null,
      "outputs": []
    },
    {
      "cell_type": "markdown",
      "source": [
        "# Given a string s, find the length of the longest substring without repeating characters\n"
      ],
      "metadata": {
        "id": "_IG50ZTyWjjo"
      }
    },
    {
      "cell_type": "code",
      "source": [
        "class Solution:\n",
        "    def lengthOfLongestSubstring(self, s: str) -> int:\n",
        "        start=0\n",
        "        count=0\n",
        "        n = len(s)\n",
        "        for end in range(1,(n+1)):\n",
        "            if len(set(s[start:end]))==len(s[start:end]):\n",
        "                if (end-start+1)>count:\n",
        "                    count=len(s[start:end])\n",
        "            else:\n",
        "                start+=1\n",
        "        return(count)\n"
      ],
      "metadata": {
        "id": "Oz7IvJURWjue"
      },
      "execution_count": null,
      "outputs": []
    },
    {
      "cell_type": "markdown",
      "source": [
        "# Given a string s, find the length of the longest\n",
        "substring\n",
        " without repeating characters"
      ],
      "metadata": {
        "id": "pLScFUcOXH8l"
      }
    },
    {
      "cell_type": "code",
      "source": [
        "class Solution:\n",
        "    def threeSum(self, nums: List[int]) -> List[List[int]]:\n",
        "        n = len(nums)\n",
        "        if n < 3:\n",
        "            return []\n",
        "\n",
        "        nums.sort()  # Sort the input list in ascending order\n",
        "\n",
        "        result = []\n",
        "        for i in range(n - 2):\n",
        "            # Skip duplicate elements at the outer loop\n",
        "            if i > 0 and nums[i] == nums[i - 1]:\n",
        "                continue\n",
        "\n",
        "            left, right = i + 1, n - 1\n",
        "            while left < right:\n",
        "                total = nums[i] + nums[left] + nums[right]\n",
        "\n",
        "                if total < 0:\n",
        "                    left += 1\n",
        "                elif total > 0:\n",
        "                    right -= 1\n",
        "                else:\n",
        "                    result.append([nums[i], nums[left], nums[right]])\n",
        "\n",
        "                    # Skip duplicate elements at the inner loop\n",
        "                    while left < right and nums[left] == nums[left + 1]:\n",
        "                        left += 1\n",
        "                    while left < right and nums[right] == nums[right - 1]:\n",
        "                        right -= 1\n",
        "\n",
        "                    left += 1\n",
        "                    right -= 1\n",
        "\n",
        "        return result\n",
        "\n",
        "\n",
        "\n"
      ],
      "metadata": {
        "id": "Aq-Y-9AHXIR1"
      },
      "execution_count": null,
      "outputs": []
    },
    {
      "cell_type": "markdown",
      "source": [
        "###Given a string containing digits from 2-9 inclusive, return all possible letter combinations that the number could represent. Return the answer in any order. A mapping of digits to letters (just like on the telephone buttons) is given below. Note that 1 does not map to any letters."
      ],
      "metadata": {
        "id": "uOa4k8ZlXPsS"
      }
    },
    {
      "cell_type": "code",
      "source": [
        "class Solution:\n",
        "    def letterCombinations(self, digits: str) -> List[str]:\n",
        "        num_to_letter={\n",
        "            2:['a','b','c'],\n",
        "            3:['d','e','f'],\n",
        "            4:['g','h','i'],\n",
        "            5:['j','k','l'],\n",
        "            6:['m','n','o'],\n",
        "            7:['p','q','r','s'],\n",
        "            8:['t','u','v'],\n",
        "            9:['w','x','y','z']\n",
        "        }\n",
        "        # print(''.join(['a','b']))\n",
        "        final = []\n",
        "        N = len(digits)\n",
        "        if N==1:\n",
        "            return num_to_letter[int(digits)]\n",
        "        if N==0:\n",
        "            return []\n",
        "        old = num_to_letter[int(digits[0])]\n",
        "        i = 1\n",
        "        while i<N:\n",
        "            new = num_to_letter[int(digits[i])]\n",
        "            combination = []\n",
        "            for j in range(len(old)):\n",
        "                for l in range(len(new)):\n",
        "                    combination.append(\"\".join([old[j],new[l]]))\n",
        "            old = combination\n",
        "            i+=1\n",
        "\n",
        "        # print(old)\n",
        "        return old\n"
      ],
      "metadata": {
        "id": "lvLLcYZJXP5c"
      },
      "execution_count": null,
      "outputs": []
    },
    {
      "cell_type": "markdown",
      "source": [
        "###Given the head of a linked list, remove the nth node from the end of the list and return its head"
      ],
      "metadata": {
        "id": "7v_1C6Sal51q"
      }
    },
    {
      "cell_type": "code",
      "source": [
        "# Definition for singly-linked list.\n",
        "# class ListNode:\n",
        "#     def __init__(self, val=0, next=None):\n",
        "#         self.val = val\n",
        "#         self.next = next\n",
        "class Solution:\n",
        "    def removeNthFromEnd(self, head: Optional[ListNode], n: int) -> Optional[ListNode]:\n",
        "\n",
        "\n",
        "        def remove_nth_from_end(head, n):\n",
        "            # Create a dummy node to handle edge cases\n",
        "            dummy = ListNode(0)\n",
        "            dummy.next = head\n",
        "            fast = slow = dummy\n",
        "\n",
        "            # Move fast pointer n nodes ahead\n",
        "            for _ in range(n + 1):\n",
        "                fast = fast.next\n",
        "\n",
        "            # Move both pointers until fast reaches the end\n",
        "            while fast:\n",
        "                fast = fast.next\n",
        "                slow = slow.next\n",
        "\n",
        "            # Remove the nth node from the end\n",
        "            slow.next = slow.next.next\n",
        "            return dummy.next\n",
        "        new_head = remove_nth_from_end(head, n)\n",
        "        return new_head\n"
      ],
      "metadata": {
        "id": "DWa9mVo3l6nf"
      },
      "execution_count": null,
      "outputs": []
    },
    {
      "cell_type": "markdown",
      "source": [
        "###Given an integer array nums of length n and an integer target, find three integers in nums such that the sum is closest to target.\n",
        "###Return the sum of the three integers.\n",
        "\n",
        "You may assume that each input would have exactly one solution."
      ],
      "metadata": {
        "id": "5RjU9FQ0uP1s"
      }
    },
    {
      "cell_type": "code",
      "source": [
        "class Solution:\n",
        "    def threeSumClosest(self, nums: List[int], target: int) -> int:\n",
        "        if len(nums)==3:\n",
        "            return sum(nums)\n",
        "        if list(set(nums))==[1]:\n",
        "            return nums[0]*3\n",
        "        nums.sort()\n",
        "        n = len(nums)\n",
        "        closet = float('inf')\n",
        "        for i in range(n-2):\n",
        "            # if i > 0 and nums[i] == nums[i - 1]:\n",
        "            #     continue\n",
        "            left = i+1\n",
        "            right = n-1\n",
        "            while left<right:\n",
        "\n",
        "                total = nums[i]+nums[left]+nums[right]\n",
        "                temp_dif = target-total\n",
        "                if total<target:\n",
        "                    left+=1\n",
        "                else:\n",
        "                    right-=1\n",
        "                if abs(total-target)<abs(closet-target):\n",
        "                    closet=total\n",
        "        return closet\n",
        "\n",
        "\n",
        ""
      ],
      "metadata": {
        "id": "AyxrhnlzuQCs"
      },
      "execution_count": null,
      "outputs": []
    },
    {
      "cell_type": "markdown",
      "source": [
        "## 4sum\n",
        "###Given an array nums of n integers, return an array of all the unique quadruplets [nums[a], nums[b], nums[c], nums[d]] such that:\n",
        "\n"
      ],
      "metadata": {
        "id": "y-tFmOvfHUcy"
      }
    },
    {
      "cell_type": "code",
      "source": [
        "class Solution:\n",
        "    def fourSum(self, nums: List[int], target: int) -> List[List[int]]:\n",
        "        result = set()\n",
        "        nums.sort()\n",
        "        n = len(nums)\n",
        "\n",
        "        for i in range(n-3):\n",
        "\n",
        "            for j in range((i+1),(n-2)):\n",
        "\n",
        "                left = j+1\n",
        "                right = n-1\n",
        "                while right>left:\n",
        "                    S = nums[i]+nums[j]+nums[left]+nums[right]\n",
        "                    if S>target:\n",
        "                        right-=1\n",
        "                    elif S< target:\n",
        "                        left+=1\n",
        "                    elif S==target:\n",
        "                        result.add((nums[i],nums[j], nums[left], nums[right]))\n",
        "                        left += 1\n",
        "                        right -= 1\n",
        "        return result\n"
      ],
      "metadata": {
        "id": "snNqqClFHUqf"
      },
      "execution_count": null,
      "outputs": []
    },
    {
      "cell_type": "markdown",
      "source": [],
      "metadata": {
        "id": "nJg1JoQoyIA3"
      }
    },
    {
      "cell_type": "code",
      "source": [],
      "metadata": {
        "id": "Rs-W5C6wyIJc"
      },
      "execution_count": null,
      "outputs": []
    }
  ]
}